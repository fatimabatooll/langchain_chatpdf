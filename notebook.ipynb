{
 "cells": [
  {
   "cell_type": "markdown",
   "metadata": {},
   "source": [
    "# list of model which can be access through groq account"
   ]
  },
  {
   "cell_type": "code",
   "execution_count": 1,
   "metadata": {},
   "outputs": [
    {
     "name": "stdout",
     "output_type": "stream",
     "text": [
      "['llama-3.3-70b-versatile', 'deepseek-r1-distill-llama-70b', 'compound-beta', 'compound-beta-mini', 'meta-llama/llama-prompt-guard-2-86m', 'gemma2-9b-it', 'meta-llama/llama-4-scout-17b-16e-instruct', 'playai-tts-arabic', 'qwen/qwen3-32b', 'meta-llama/llama-guard-4-12b', 'moonshotai/kimi-k2-instruct', 'openai/gpt-oss-120b', 'openai/gpt-oss-20b', 'whisper-large-v3-turbo', 'whisper-large-v3', 'allam-2-7b', 'playai-tts', 'meta-llama/llama-4-maverick-17b-128e-instruct', 'llama-3.1-8b-instant', 'meta-llama/llama-prompt-guard-2-22m']\n"
     ]
    }
   ],
   "source": [
    "import os, requests\n",
    "BASE = \"https://api.groq.com/openai/v1\"\n",
    "HEAD = {\"Authorization\": f\"Bearer {os.getenv('GROQ_API_KEY')}\"}\n",
    "models = requests.get(f\"{BASE}/models\", headers=HEAD, timeout=30).json()\n",
    "print([m[\"id\"] for m in models.get(\"data\", [])])\n"
   ]
  },
  {
   "cell_type": "code",
   "execution_count": 15,
   "metadata": {},
   "outputs": [
    {
     "name": "stdout",
     "output_type": "stream",
     "text": [
      "[{'extra': {'x-ratelimit-limit-requests': '1000',\n",
      "            'x-ratelimit-limit-tokens': '8000',\n",
      "            'x-ratelimit-remaining-requests': '999',\n",
      "            'x-ratelimit-remaining-tokens': '7927',\n",
      "            'x-ratelimit-reset-requests': '1m26.4s',\n",
      "            'x-ratelimit-reset-tokens': '547.5ms'},\n",
      "  'model': 'openai/gpt-oss-120b',\n",
      "  'reason': 'ok',\n",
      "  'status': 'ok'},\n",
      " {'extra': {'x-ratelimit-limit-requests': '1000',\n",
      "            'x-ratelimit-limit-tokens': '6000',\n",
      "            'x-ratelimit-remaining-requests': '999',\n",
      "            'x-ratelimit-remaining-tokens': '5993',\n",
      "            'x-ratelimit-reset-requests': '1m26.4s',\n",
      "            'x-ratelimit-reset-tokens': '70ms'},\n",
      "  'model': 'meta-llama/llama-4-maverick-17b-128e-instruct',\n",
      "  'reason': 'ok',\n",
      "  'status': 'ok'},\n",
      " {'extra': {'x-ratelimit-limit-requests': '1000',\n",
      "            'x-ratelimit-limit-tokens': '8000',\n",
      "            'x-ratelimit-remaining-requests': '999',\n",
      "            'x-ratelimit-remaining-tokens': '7927',\n",
      "            'x-ratelimit-reset-requests': '1m26.4s',\n",
      "            'x-ratelimit-reset-tokens': '547.5ms'},\n",
      "  'model': 'openai/gpt-oss-20b',\n",
      "  'reason': 'ok',\n",
      "  'status': 'ok'},\n",
      " {'extra': {'x-ratelimit-limit-requests': '200',\n",
      "            'x-ratelimit-limit-tokens': '70000',\n",
      "            'x-ratelimit-remaining-requests': '199',\n",
      "            'x-ratelimit-remaining-tokens': '69993',\n",
      "            'x-ratelimit-reset-requests': '7m12s',\n",
      "            'x-ratelimit-reset-tokens': '5.999999ms'},\n",
      "  'model': 'compound-beta',\n",
      "  'reason': 'ok',\n",
      "  'status': 'ok'},\n",
      " {'extra': {'x-ratelimit-limit-requests': '1000',\n",
      "            'x-ratelimit-limit-tokens': '12000',\n",
      "            'x-ratelimit-remaining-requests': '998',\n",
      "            'x-ratelimit-remaining-tokens': '11944',\n",
      "            'x-ratelimit-reset-requests': '2m52.338s',\n",
      "            'x-ratelimit-reset-tokens': '278.999999ms'},\n",
      "  'model': 'llama-3.3-70b-versatile',\n",
      "  'reason': 'ok',\n",
      "  'status': 'ok'},\n",
      " {'extra': {'x-ratelimit-limit-requests': '14400',\n",
      "            'x-ratelimit-limit-tokens': '6000',\n",
      "            'x-ratelimit-remaining-requests': '14399',\n",
      "            'x-ratelimit-remaining-tokens': '5993',\n",
      "            'x-ratelimit-reset-requests': '6s',\n",
      "            'x-ratelimit-reset-tokens': '70ms'},\n",
      "  'model': 'llama-3.1-8b-instant',\n",
      "  'reason': 'ok',\n",
      "  'status': 'ok'},\n",
      " {'extra': {'x-ratelimit-limit-requests': '200',\n",
      "            'x-ratelimit-limit-tokens': '70000',\n",
      "            'x-ratelimit-remaining-requests': '199',\n",
      "            'x-ratelimit-remaining-tokens': '69993',\n",
      "            'x-ratelimit-reset-requests': '7m12s',\n",
      "            'x-ratelimit-reset-tokens': '5.999999ms'},\n",
      "  'model': 'compound-beta-mini',\n",
      "  'reason': 'ok',\n",
      "  'status': 'ok'},\n",
      " {'extra': {'x-ratelimit-limit-requests': '1000',\n",
      "            'x-ratelimit-limit-tokens': '30000',\n",
      "            'x-ratelimit-remaining-requests': '997',\n",
      "            'x-ratelimit-remaining-tokens': '29993',\n",
      "            'x-ratelimit-reset-requests': '4m18.382999999s',\n",
      "            'x-ratelimit-reset-tokens': '14ms'},\n",
      "  'model': 'meta-llama/llama-4-scout-17b-16e-instruct',\n",
      "  'reason': 'ok',\n",
      "  'status': 'ok'},\n",
      " {'extra': {'x-ratelimit-limit-requests': '14400',\n",
      "            'x-ratelimit-limit-tokens': '15000',\n",
      "            'x-ratelimit-remaining-requests': '14399',\n",
      "            'x-ratelimit-remaining-tokens': '14993',\n",
      "            'x-ratelimit-reset-requests': '6s',\n",
      "            'x-ratelimit-reset-tokens': '28ms'},\n",
      "  'model': 'gemma2-9b-it',\n",
      "  'reason': 'ok',\n",
      "  'status': 'ok'},\n",
      " {'extra': {'x-ratelimit-limit-requests': '1000',\n",
      "            'x-ratelimit-limit-tokens': '10000',\n",
      "            'x-ratelimit-remaining-requests': '999',\n",
      "            'x-ratelimit-remaining-tokens': '9973',\n",
      "            'x-ratelimit-reset-requests': '1m26.4s',\n",
      "            'x-ratelimit-reset-tokens': '162ms'},\n",
      "  'model': 'moonshotai/kimi-k2-instruct',\n",
      "  'reason': 'ok',\n",
      "  'status': 'ok'},\n",
      " {'extra': {'x-ratelimit-limit-requests': '1000',\n",
      "            'x-ratelimit-limit-tokens': '6000',\n",
      "            'x-ratelimit-remaining-requests': '999',\n",
      "            'x-ratelimit-remaining-tokens': '5993',\n",
      "            'x-ratelimit-reset-requests': '1m26.4s',\n",
      "            'x-ratelimit-reset-tokens': '70ms'},\n",
      "  'model': 'qwen/qwen3-32b',\n",
      "  'reason': 'ok',\n",
      "  'status': 'ok'},\n",
      " {'extra': {'x-ratelimit-limit-requests': '1000',\n",
      "            'x-ratelimit-limit-tokens': '6000',\n",
      "            'x-ratelimit-remaining-requests': '999',\n",
      "            'x-ratelimit-remaining-tokens': '5993',\n",
      "            'x-ratelimit-reset-requests': '1m26.4s',\n",
      "            'x-ratelimit-reset-tokens': '70ms'},\n",
      "  'model': 'deepseek-r1-distill-llama-70b',\n",
      "  'reason': 'ok',\n",
      "  'status': 'ok'},\n",
      " {'extra': {'x-ratelimit-limit-requests': '7000',\n",
      "            'x-ratelimit-limit-tokens': '6000',\n",
      "            'x-ratelimit-remaining-requests': '6999',\n",
      "            'x-ratelimit-remaining-tokens': '5990',\n",
      "            'x-ratelimit-reset-requests': '12.342857142s',\n",
      "            'x-ratelimit-reset-tokens': '100ms'},\n",
      "  'model': 'allam-2-7b',\n",
      "  'reason': 'ok',\n",
      "  'status': 'ok'}]\n"
     ]
    }
   ],
   "source": [
    "import os, time, json, requests\n",
    "BASE = \"https://api.groq.com/openai/v1\"\n",
    "HEAD = {\"Authorization\": f\"Bearer {os.getenv('GROQ_API_KEY')}\"}\n",
    "\n",
    "def list_models():\n",
    "    r = requests.get(f\"{BASE}/models\", headers=HEAD, timeout=30)\n",
    "    r.raise_for_status()\n",
    "    # return only the model ids\n",
    "    return [m[\"id\"] for m in r.json().get(\"data\", [])]\n",
    "\n",
    "def try_chat(model_id: str):\n",
    "    \"\"\"Send a tiny chat request and return (ok, reason, extra).\"\"\"\n",
    "    url = f\"{BASE}/chat/completions\"\n",
    "    payload = {\n",
    "        \"model\": model_id,\n",
    "        \"messages\": [{\"role\": \"user\", \"content\": \"ping\"}],\n",
    "        \"max_tokens\": 8,\n",
    "        \"temperature\": 0.0,\n",
    "    }\n",
    "    try:\n",
    "        r = requests.post(url, headers=HEAD, json=payload, timeout=30)\n",
    "        # Capture rate-limit headers if present\n",
    "        rate = {k:v for k,v in r.headers.items() if k.lower().startswith(\"x-ratelimit\")}\n",
    "        if r.status_code == 200:\n",
    "            return True, \"ok\", rate\n",
    "        # Parse Groq error body\n",
    "        err = {}\n",
    "        try:\n",
    "            err = r.json()\n",
    "        except Exception:\n",
    "            err = {\"raw\": r.text}\n",
    "        # Heuristics for common failures\n",
    "        code = r.status_code\n",
    "        msg = (err.get(\"error\") or {}).get(\"message\", \"\")\n",
    "        typ = (err.get(\"error\") or {}).get(\"type\", \"\")\n",
    "        if code == 401:\n",
    "            reason = \"auth_error (invalid/expired API key or missing bearer)\"\n",
    "        elif code == 403:\n",
    "            reason = \"forbidden (model not enabled for this account)\"\n",
    "        elif code == 404:\n",
    "            reason = \"model_not_found (typo or de-listed model id)\"\n",
    "        elif code == 409:\n",
    "            reason = \"concurrency limit reached\"\n",
    "        elif code == 422:\n",
    "            reason = \"validation_error (bad payload)\"\n",
    "        elif code == 429:\n",
    "            # Could be rate limit OR quota exceeded\n",
    "            if \"quota\" in msg.lower():\n",
    "                reason = \"quota_exceeded (billing/credit cap reached)\"\n",
    "            else:\n",
    "                reason = \"rate_limited (too many requests)\"\n",
    "        elif code == 400:\n",
    "            # Often context-length issues show up as 400 with a message\n",
    "            if \"maximum context length\" in msg.lower():\n",
    "                reason = \"context_limit (prompt+max_tokens too large)\"\n",
    "            else:\n",
    "                reason = \"bad_request\"\n",
    "        else:\n",
    "            reason = f\"unexpected_{code}\"\n",
    "        # Attach short message + rate headers for debugging\n",
    "        extra = {\"msg\": msg[:200], \"type\": typ, **({\"rate\": rate} if rate else {})}\n",
    "        return False, reason, extra\n",
    "    except requests.RequestException as e:\n",
    "        return False, \"network_error\", {\"exc\": str(e)}\n",
    "\n",
    "# Filter: only test chat models; skip obvious TTS/Whisper/guards if you want\n",
    "SKIP_PREFIXES = (\"playai-tts\", \"whisper\", \"meta-llama/llama-guard\", \"meta-llama/llama-prompt-guard\")\n",
    "\n",
    "models = [m for m in list_models() if not m.startswith(SKIP_PREFIXES)]\n",
    "results = []\n",
    "for m in models:\n",
    "    ok, reason, extra = try_chat(m)\n",
    "    results.append({\"model\": m, \"status\": \"ok\" if ok else \"fail\", \"reason\": reason, \"extra\": extra})\n",
    "    # small delay to avoid rate limits\n",
    "    time.sleep(0.2)\n",
    "\n",
    "# Pretty print a compact table\n",
    "from pprint import pprint\n",
    "pprint(results)\n"
   ]
  },
  {
   "cell_type": "code",
   "execution_count": 9,
   "metadata": {},
   "outputs": [],
   "source": [
    "# Uncomment only one model line below:\n",
    "\n",
    "# MODEL = \"llama2\"           \n",
    "# MODEL = \"llama-3.1-8b-instant\"\n"
   ]
  },
  {
   "cell_type": "code",
   "execution_count": 13,
   "metadata": {},
   "outputs": [
    {
     "name": "stdout",
     "output_type": "stream",
     "text": [
      "⚠️ Groq failed or model not supported: Model not supported by Groq.\n",
      "👉 Switching to Ollama with model: llama2\n",
      "LLM and Embeddings initialized successfully!\n"
     ]
    }
   ],
   "source": [
    "# import os\n",
    "# from langchain_openai import ChatOpenAI, OpenAIEmbeddings\n",
    "# from langchain_community.llms import Ollama\n",
    "# from langchain_community.embeddings import OllamaEmbeddings\n",
    "\n",
    "# GROQ_API_KEY = os.getenv(\"GROQ_API_KEY\")\n",
    "\n",
    "# # Choose any model you want\n",
    "# MODEL = \"llama-3.1-8b-instant\"   # Example: Groq model\n",
    "# # MODEL = \"deepseek-r1-distill-llama-70b\"  # Example: non-Groq model\n",
    "\n",
    "# # Groq-supported model prefixes\n",
    "# GROQ_MODELS = [\"gemma\", \"llama3\", \"mixtral\", \"qwen\"]\n",
    "\n",
    "# try:\n",
    "#     if any(MODEL.startswith(m) for m in GROQ_MODELS):\n",
    "#         print(f\"✅ Using Groq model: {MODEL}\")\n",
    "#         model = ChatOpenAI(\n",
    "#             api_key=GROQ_API_KEY,\n",
    "#             model=MODEL,\n",
    "#             base_url=\"https://api.groq.com/openai/v1\"\n",
    "#         )\n",
    "#         embeddings = OpenAIEmbeddings(\n",
    "#             api_key=GROQ_API_KEY,\n",
    "#             model=os.getenv(\"GROQ_EMBED_MODEL\", \"text-embedding-3-small\"),\n",
    "#             base_url=\"https://api.groq.com/openai/v1\"\n",
    "#         )\n",
    "#         _ = model.invoke(\"ping\")  # sanity check\n",
    "#     else:\n",
    "#         raise ValueError(\"Model not supported by Groq.\")\n",
    "# except Exception as e:\n",
    "#     print(f\"⚠️ Groq failed or model not supported: {e}\")\n",
    "#     print(\"👉 Switching to Ollama with model: llama2\")\n",
    "#     model = Ollama(model=\"llama2\")\n",
    "#     embeddings = OllamaEmbeddings()\n",
    "\n",
    "# print(\"LLM and Embeddings initialized successfully!\")\n"
   ]
  },
  {
   "cell_type": "code",
   "execution_count": 19,
   "metadata": {},
   "outputs": [
    {
     "name": "stdout",
     "output_type": "stream",
     "text": [
      "🔎 Trying Groq model: llama-3.1-8b-instant\n",
      "Using Groq model: llama-3.1-8b-instant\n",
      "LLM and Embeddings initialized successfully!\n"
     ]
    }
   ],
   "source": [
    "import os\n",
    "from langchain_openai import ChatOpenAI, OpenAIEmbeddings\n",
    "from langchain_community.llms import Ollama\n",
    "from langchain_community.embeddings import OllamaEmbeddings\n",
    "\n",
    "GROQ_API_KEY = os.getenv(\"GROQ_API_KEY\")\n",
    "\n",
    "# Choose your model\n",
    "MODEL = \"llama-3.1-8b-instant\"  \n",
    "\n",
    "try:\n",
    "    print(f\"🔎 Trying Groq model: {MODEL}\")\n",
    "    model = ChatOpenAI(\n",
    "        api_key=GROQ_API_KEY,\n",
    "        model=MODEL,\n",
    "        base_url=\"https://api.groq.com/openai/v1\"\n",
    "    )\n",
    "    embeddings = OpenAIEmbeddings(\n",
    "        api_key=GROQ_API_KEY,\n",
    "        model=os.getenv(\"GROQ_EMBED_MODEL\", \"text-embedding-3-small\"),\n",
    "        base_url=\"https://api.groq.com/openai/v1\"\n",
    "    )\n",
    "    \n",
    "    # Tiny test request to check quota/context\n",
    "    _ = model.invoke(\"ping\")\n",
    "    print(f\"Using Groq model: {MODEL}\")\n",
    "\n",
    "except Exception as e:\n",
    "    # Catch all Groq-related issues (quota exceeded, rate limit, auth, etc.)\n",
    "    print(f\"Groq failed: {e}\")\n",
    "    print(\" Switching to Ollama with model: llama2\")\n",
    "    model = Ollama(model=\"llama2\")\n",
    "    embeddings = OllamaEmbeddings()\n",
    "\n",
    "print(\"LLM and Embeddings initialized successfully!\")\n"
   ]
  },
  {
   "cell_type": "code",
   "execution_count": 18,
   "metadata": {},
   "outputs": [
    {
     "name": "stdout",
     "output_type": "stream",
     "text": [
      "content=\"Black holes are indeed one of the most fascinating and mysterious objects in the universe. Here are a few cool facts about them:\\n\\n1. **Event Horizons**: Black holes have an event horizon, which is the point of no return around a black hole. Once something crosses the event horizon, it gets trapped by the black hole's gravity and can't escape.\\n\\n2. **Warped Space-Time**: Black holes warp the fabric of space-time around them, creating a region known as the ergosphere. This region can even trap and rotate the rotation of objects that enter it.\\n\\n3. **Gravitational Pull**: The gravitational pull of a black hole is so strong that not even light can escape once it gets too close to the event horizon. This is why black holes are invisible to us, even though they can be detected by their effects on the surrounding environment.\\n\\n4. **Information Paradox**: The theory of general relativity suggests that anything that falls into a black hole gets destroyed, including information. However, the laws of quantum mechanics suggest that information cannot be destroyed, leading to the black hole information paradox.\\n\\n5. **Black Hole Singularities**: At the center of a black hole lies a singularity, a point of infinite density and zero volume. This singularity is a point of infinite curvature in space-time, where the laws of physics as we know them break down.\\n\\n6. **Hawking Radiation**: In the 1970s, Stephen Hawking discovered that black holes emit radiation, now known as Hawking radiation. This radiation is a result of virtual particles that are created near the event horizon, with one particle being pulled into the black hole and the other escaping as radiation.\\n\\n7. **Black Hole Entropy**: In 1996, physicists discovered that black holes have a temperature and entropy, which is a measure of their internal disorder or randomness. This has led to a deeper understanding of the connection between gravity and thermodynamics.\\n\\nThese are just a few of the many fascinating aspects of black holes. Their mysterious nature and the impact they have on our understanding of the universe make them a truly captivating subject of study.\" additional_kwargs={'refusal': None} response_metadata={'token_usage': {'completion_tokens': 430, 'prompt_tokens': 43, 'total_tokens': 473, 'completion_tokens_details': None, 'prompt_tokens_details': None, 'queue_time': 0.00185208, 'prompt_time': 0.005950138, 'completion_time': 0.496795727, 'total_time': 0.502745865}, 'model_name': 'llama-3.1-8b-instant', 'system_fingerprint': 'fp_c40956ddc4', 'finish_reason': 'stop', 'logprobs': None} id='run-a5a44083-4ae7-4638-ad99-51e793163b7c-0' usage_metadata={'input_tokens': 43, 'output_tokens': 430, 'total_tokens': 473}\n"
     ]
    }
   ],
   "source": [
    "response = model.invoke(\"What's something cool about black holes?\")\n",
    "print(response)\n"
   ]
  },
  {
   "cell_type": "code",
   "execution_count": null,
   "metadata": {},
   "outputs": [
    {
     "data": {
      "text/plain": [
       "\"Sure! Here's one:\\n\\nWhy don't scientists trust atoms?\\nBecause they make up everything!\\n\\nI hope that brought a smile to your face! Do you have a favorite type of joke or topic you'd like to hear a joke about?\""
      ]
     },
     "execution_count": 17,
     "metadata": {},
     "output_type": "execute_result"
    }
   ],
   "source": [
    "from langchain_core.output_parsers import StrOutputParser\n",
    "\n",
    "parser = StrOutputParser()\n",
    "chain = model | parser\n",
    "chain.invoke(\"Tell me a joke\")\n"
   ]
  },
  {
   "cell_type": "code",
   "execution_count": null,
   "metadata": {},
   "outputs": [
    {
     "data": {
      "text/plain": [
       "[Document(metadata={'producer': 'Skia/PDF m141 Google Docs Renderer', 'creator': 'PyPDF', 'creationdate': '', 'title': 'Artificial Intelligence', 'source': 'Artificial Intelligence.pdf', 'total_pages': 2, 'page': 0, 'page_label': '1'}, page_content='What  is  Artificial  Intelligence?  \\nComplete\\n \\nUnderstanding\\n \\n When  most  people  hear  the  term  Artificial  Intelligence,  the  first  thing  they  usually  think  of  is  AI  \\nrobots.\\n \\nThat’s\\n \\nbecause\\n \\nmovies\\n \\nand\\n \\nnovels\\n \\nweave\\n \\nstories\\n \\nabout\\n \\nhuman-like\\n \\nmachines\\n \\nthat\\n \\nwreak\\n \\nhavoc\\n \\non\\n \\nEarth.\\n \\nBut\\n \\nnothing\\n \\ncould\\n \\nbe\\n \\nfurther\\n \\nfrom\\n \\nthe\\n \\ntruth.\\n  Today,  in  the  realm  of  digitalization,  artificial  intelligence  is  unlocking  unprecedented  \\npossibilities,\\n \\nwhere\\n \\nmachines\\n \\nnot\\n \\nonly\\n \\nmimic\\n \\nhuman\\n \\nintelligence\\n \\nbut\\n \\nalso\\n \\ntransform\\n \\nthe\\n \\ncomplexities\\n \\nof\\n \\nthe\\n \\nsoftware\\n \\nbusiness\\n \\nworld.\\n  History  of  Artificial  Intelligence  The  history  of  AI  dates  to  ancient  times  with  the  idea  of  creating  human-like  artificial  beings  and  \\nAI\\n \\ntools.\\n \\nHowever,\\n \\nthe\\n \\nmodern\\n \\nera\\n \\nof\\n \\nAI\\n \\nbegan\\n \\nin\\n \\nthe\\n \\nmid-20th\\n \\ncentury.\\n \\nHere’s\\n \\na\\n \\nbrief\\n \\ntimeline:\\n  Understanding  AI:  Throughout  its  history,  AI  has  faced  periods  of  hype  and  skepticism.  To  understand  what’s  going  \\non\\n \\nwith\\n \\nAI\\n \\ntoday,\\n \\nit’s\\n \\nhelpful\\n \\nto\\n \\nthink\\n \\nof\\n \\nit\\n \\nin\\n \\nphases\\n \\nof\\n \\ndevelopment.\\n \\nEarly\\n \\nArtificial\\n \\nIntelligence\\n \\nweb\\n \\nsystems\\n \\nwere\\n \\nmachines\\n \\nthat\\n \\nreceived\\n \\ninput\\n \\nlearnings,\\n \\nthe\\n \\ndata\\n \\nin\\n \\nthem\\n \\nwere\\n \\nfed\\n \\nby\\n \\nhumans\\n \\nand\\n \\nthen\\n \\nproduced\\n \\na\\n \\nrecommendation.\\n \\nThose\\n \\nresponses\\n \\nwere\\n \\nbased\\n \\non\\n \\nthe\\n \\nway\\n \\nthe\\n \\nsystems\\n \\nwere\\n \\ntrained,\\n \\nand\\n \\nthe\\n \\nalgorithms\\n \\nused\\n \\nto\\n \\ntell\\n \\nthe\\n \\nsystem\\n \\nwhat\\n \\nto\\n \\ndo\\n \\nwith\\n \\nthe\\n \\ndata.\\n \\nIn\\n \\neasier\\n \\nterms,\\n \\nNetflix\\n \\nknowing\\n \\nthat\\n \\nyou\\n \\nloved\\n \\n“Squid\\n \\nGame”\\n \\nand\\n \\nsuggesting\\n \\nthat\\n \\nyou\\n \\nwatch\\n \\n“Escape\\n \\nRoom”.\\n  As  technology  progressed,  the  previous  standards  that  once  defined  AI  tools  and  apps  became  \\noutdated.\\n \\nThus,\\n \\nAI\\n \\nis\\n \\ncontinuously\\n \\nevolving\\n \\nto\\n \\nbenefit\\n \\nindustries\\n \\nand\\n \\nsoftware\\n \\ndevelopment\\n \\nbusinesses.\\n  Difference  between  Machine  Learning  vs  Deep  Learning   Although  the  terms  “machine  learning”  and  “deep  learning”  come  up  frequently  in  conversations  \\nabout\\n \\nAI,\\n \\nthey\\n \\ndiffer\\n \\nin\\n \\ntheir\\n \\napproaches\\n \\nand\\n \\narchitectures.'),\n",
       " Document(metadata={'producer': 'Skia/PDF m141 Google Docs Renderer', 'creator': 'PyPDF', 'creationdate': '', 'title': 'Artificial Intelligence', 'source': 'Artificial Intelligence.pdf', 'total_pages': 2, 'page': 1, 'page_label': '2'}, page_content='Machine  learning  is  a  broader  concept  that  encompasses  algorithms  and  techniques  allowing  \\nsystems\\n \\nto\\n \\nlearn\\n \\npatterns\\n \\nand\\n \\nmake\\n \\npredictions\\n \\nbased\\n \\non\\n \\ndata.\\n \\nIt\\n \\nmeans\\n \\na\\n \\nsystem\\n \\nis\\n \\nbeing\\n \\ntrained\\n \\nwith\\n \\nvast\\n \\ndata\\n \\nto\\n \\nrecognize\\n \\npatterns\\n \\nand\\n \\nmake\\n \\naccurate\\n \\ndecisions.\\n  Whereas  Deep  learning  is  a  subset  of  machine  learning,   ·  It  aims  to  replicate  the  learning  and  decision-making  architecture  of  human  brain   ·  Its  technology  teaches  to  recognize  complex  data  patterns  using  AI   ·  It  is  often  used  in  natural  language  processing  (NLP),  speech  recognition,  and  image  \\nrecognition.\\n  Advantages  and  Disadvantages  of  Artificial  Intelligence  There  are  always  challenges  and  limitations  of  any  technological  advancement.  There  is  a  ton  \\nof\\n \\ndebate\\n \\nabout\\n \\nthe\\n \\nbenefits\\n \\nand\\n \\nrisks\\n \\nof\\n \\nAI\\n \\nat\\n \\nevery\\n \\nphase.\\n \\nEveryone\\n \\nknows\\n \\nthat\\n \\nAI\\n \\nprovides\\n \\nsoftware\\n \\nbusinesses\\n \\nwith\\n \\na\\n \\ncompetitive\\n \\nadvantage.\\n  On  one  hand,  companies  increasingly  utilize  artificial  intelligence  tools  to  streamline  their  \\ninternal\\n \\nprocesses\\n \\n(as\\n \\nwell\\n \\nas\\n \\nsome\\n \\ncustomer-facing\\n \\nprocesses\\n \\nand\\n \\napplications)\\n \\nto\\n \\nachieve\\n \\nresults\\n \\nfaster\\n \\nand\\n \\nwith\\n \\nmore\\n \\nprecision.\\n \\nThe\\n \\nprimary\\n \\nbenefit\\n \\nof\\n \\nadopting\\n \\nAI\\n \\nis\\n \\nits\\n \\nability\\n \\nto\\n \\nreduce\\n \\nhuman\\n \\nerror.\\n \\nMoreover,\\n \\nAI\\n \\nsystems\\n \\nboast\\n \\nremarkable\\n \\naccuracy,\\n \\npaving\\n \\nthe\\n \\nway\\n \\nfor\\n \\ninnovative\\n \\nsolutions\\n \\nand\\n \\npersonalized\\n \\nuser\\n \\nexperiences.\\n  However,  the  rapid  advancement  of  AI  also  brings  forth  concerns  such  as  job  displacement,  \\nbiased\\n \\nalgorithms,\\n \\nand\\n \\nprivacy\\n \\ninfringements.\\n  Addressing  these  complexities  requires  careful  considerations  and  responsible  governance  to  \\nmaximize\\n \\nthe\\n \\nbenefits\\n \\nwhile\\n \\nmitigating\\n \\nrisks.\\n  AI  holds  the  potential  to  reshape  software  businesses,  but  we  must  navigate  its  ethical  \\nchallenges\\n \\nand\\n \\nconsequences\\n \\ncautiously.')]"
      ]
     },
     "execution_count": 18,
     "metadata": {},
     "output_type": "execute_result"
    }
   ],
   "source": [
    "from langchain_community.document_loaders import PyPDFLoader\n",
    "\n",
    "loader = PyPDFLoader(\"Artificial Intelligence.pdf\")\n",
    "pages =  loader.load_and_split()\n",
    "pages\n"
   ]
  },
  {
   "cell_type": "code",
   "execution_count": null,
   "metadata": {},
   "outputs": [
    {
     "name": "stdout",
     "output_type": "stream",
     "text": [
      "\n",
      "Answer the question based on the context below. If you can't answer the question, reply 'I don't know'.\n",
      "\n",
      "Context: I am a human being\n",
      "Question: What is my name\n",
      "\n",
      "\n"
     ]
    }
   ],
   "source": [
    "from langchain.prompts import PromptTemplate\n",
    "\n",
    "template = \"\"\"\n",
    "Answer the question based on the context below. If you can't answer the question, reply 'I don't know'.\n",
    "\n",
    "Context: {context}\n",
    "Question: {question}\n",
    "\n",
    "\"\"\"\n",
    "prompt = PromptTemplate.from_template(template)\n",
    "print(prompt.format(context = \"I am a human being\", question = \"What is my name\"))"
   ]
  },
  {
   "cell_type": "code",
   "execution_count": null,
   "metadata": {},
   "outputs": [],
   "source": [
    "chain = prompt | model | parser \n"
   ]
  },
  {
   "cell_type": "code",
   "execution_count": null,
   "metadata": {},
   "outputs": [
    {
     "data": {
      "text/plain": [
       "'Hi Santiago! Your name is Santiago.'"
      ]
     },
     "execution_count": 21,
     "metadata": {},
     "output_type": "execute_result"
    }
   ],
   "source": [
    "chain.invoke(\n",
    "    {\n",
    "        \"context\": \"The name i was given was Santiago\",\n",
    "        \"question\": \"What's my name \"\n",
    "    }\n",
    ")"
   ]
  },
  {
   "cell_type": "code",
   "execution_count": null,
   "metadata": {},
   "outputs": [
    {
     "name": "stdout",
     "output_type": "stream",
     "text": [
      "FAISS index built from 2 chunks.\n"
     ]
    }
   ],
   "source": [
    "from langchain_community.vectorstores import FAISS\n",
    "\n",
    "texts, metas = [], []\n",
    "for d in pages:\n",
    "    pc = getattr(d, \"page_content\", None)\n",
    "    if isinstance(pc, bytes):\n",
    "        pc = pc.decode(\"utf-8\", errors=\"ignore\")\n",
    "    if pc is None:\n",
    "        continue\n",
    "    s = pc if isinstance(pc, str) else str(pc)\n",
    "    s = s.strip()\n",
    "    if not s:\n",
    "        continue\n",
    "    texts.append(s)\n",
    "    metas.append(getattr(d, \"metadata\", {}))\n",
    "\n",
    "vectorstore = FAISS.from_texts(texts, embedding=embeddings, metadatas=metas)\n",
    "retriever = vectorstore.as_retriever()\n",
    "\n",
    "print(f\"FAISS index built from {len(texts)} chunks.\")\n"
   ]
  },
  {
   "cell_type": "code",
   "execution_count": null,
   "metadata": {},
   "outputs": [
    {
     "data": {
      "text/plain": [
       "[Document(id='c5a820c9-5360-46f4-ac0a-dc21a8f99259', metadata={'producer': 'Skia/PDF m141 Google Docs Renderer', 'creator': 'PyPDF', 'creationdate': '', 'title': 'Artificial Intelligence', 'source': 'Artificial Intelligence.pdf', 'total_pages': 2, 'page': 0, 'page_label': '1'}, page_content='What  is  Artificial  Intelligence?  \\nComplete\\n \\nUnderstanding\\n \\n When  most  people  hear  the  term  Artificial  Intelligence,  the  first  thing  they  usually  think  of  is  AI  \\nrobots.\\n \\nThat’s\\n \\nbecause\\n \\nmovies\\n \\nand\\n \\nnovels\\n \\nweave\\n \\nstories\\n \\nabout\\n \\nhuman-like\\n \\nmachines\\n \\nthat\\n \\nwreak\\n \\nhavoc\\n \\non\\n \\nEarth.\\n \\nBut\\n \\nnothing\\n \\ncould\\n \\nbe\\n \\nfurther\\n \\nfrom\\n \\nthe\\n \\ntruth.\\n  Today,  in  the  realm  of  digitalization,  artificial  intelligence  is  unlocking  unprecedented  \\npossibilities,\\n \\nwhere\\n \\nmachines\\n \\nnot\\n \\nonly\\n \\nmimic\\n \\nhuman\\n \\nintelligence\\n \\nbut\\n \\nalso\\n \\ntransform\\n \\nthe\\n \\ncomplexities\\n \\nof\\n \\nthe\\n \\nsoftware\\n \\nbusiness\\n \\nworld.\\n  History  of  Artificial  Intelligence  The  history  of  AI  dates  to  ancient  times  with  the  idea  of  creating  human-like  artificial  beings  and  \\nAI\\n \\ntools.\\n \\nHowever,\\n \\nthe\\n \\nmodern\\n \\nera\\n \\nof\\n \\nAI\\n \\nbegan\\n \\nin\\n \\nthe\\n \\nmid-20th\\n \\ncentury.\\n \\nHere’s\\n \\na\\n \\nbrief\\n \\ntimeline:\\n  Understanding  AI:  Throughout  its  history,  AI  has  faced  periods  of  hype  and  skepticism.  To  understand  what’s  going  \\non\\n \\nwith\\n \\nAI\\n \\ntoday,\\n \\nit’s\\n \\nhelpful\\n \\nto\\n \\nthink\\n \\nof\\n \\nit\\n \\nin\\n \\nphases\\n \\nof\\n \\ndevelopment.\\n \\nEarly\\n \\nArtificial\\n \\nIntelligence\\n \\nweb\\n \\nsystems\\n \\nwere\\n \\nmachines\\n \\nthat\\n \\nreceived\\n \\ninput\\n \\nlearnings,\\n \\nthe\\n \\ndata\\n \\nin\\n \\nthem\\n \\nwere\\n \\nfed\\n \\nby\\n \\nhumans\\n \\nand\\n \\nthen\\n \\nproduced\\n \\na\\n \\nrecommendation.\\n \\nThose\\n \\nresponses\\n \\nwere\\n \\nbased\\n \\non\\n \\nthe\\n \\nway\\n \\nthe\\n \\nsystems\\n \\nwere\\n \\ntrained,\\n \\nand\\n \\nthe\\n \\nalgorithms\\n \\nused\\n \\nto\\n \\ntell\\n \\nthe\\n \\nsystem\\n \\nwhat\\n \\nto\\n \\ndo\\n \\nwith\\n \\nthe\\n \\ndata.\\n \\nIn\\n \\neasier\\n \\nterms,\\n \\nNetflix\\n \\nknowing\\n \\nthat\\n \\nyou\\n \\nloved\\n \\n“Squid\\n \\nGame”\\n \\nand\\n \\nsuggesting\\n \\nthat\\n \\nyou\\n \\nwatch\\n \\n“Escape\\n \\nRoom”.\\n  As  technology  progressed,  the  previous  standards  that  once  defined  AI  tools  and  apps  became  \\noutdated.\\n \\nThus,\\n \\nAI\\n \\nis\\n \\ncontinuously\\n \\nevolving\\n \\nto\\n \\nbenefit\\n \\nindustries\\n \\nand\\n \\nsoftware\\n \\ndevelopment\\n \\nbusinesses.\\n  Difference  between  Machine  Learning  vs  Deep  Learning   Although  the  terms  “machine  learning”  and  “deep  learning”  come  up  frequently  in  conversations  \\nabout\\n \\nAI,\\n \\nthey\\n \\ndiffer\\n \\nin\\n \\ntheir\\n \\napproaches\\n \\nand\\n \\narchitectures.'),\n",
       " Document(id='ceca9118-16dd-4351-922c-d32b1f68a1e1', metadata={'producer': 'Skia/PDF m141 Google Docs Renderer', 'creator': 'PyPDF', 'creationdate': '', 'title': 'Artificial Intelligence', 'source': 'Artificial Intelligence.pdf', 'total_pages': 2, 'page': 1, 'page_label': '2'}, page_content='Machine  learning  is  a  broader  concept  that  encompasses  algorithms  and  techniques  allowing  \\nsystems\\n \\nto\\n \\nlearn\\n \\npatterns\\n \\nand\\n \\nmake\\n \\npredictions\\n \\nbased\\n \\non\\n \\ndata.\\n \\nIt\\n \\nmeans\\n \\na\\n \\nsystem\\n \\nis\\n \\nbeing\\n \\ntrained\\n \\nwith\\n \\nvast\\n \\ndata\\n \\nto\\n \\nrecognize\\n \\npatterns\\n \\nand\\n \\nmake\\n \\naccurate\\n \\ndecisions.\\n  Whereas  Deep  learning  is  a  subset  of  machine  learning,   ·  It  aims  to  replicate  the  learning  and  decision-making  architecture  of  human  brain   ·  Its  technology  teaches  to  recognize  complex  data  patterns  using  AI   ·  It  is  often  used  in  natural  language  processing  (NLP),  speech  recognition,  and  image  \\nrecognition.\\n  Advantages  and  Disadvantages  of  Artificial  Intelligence  There  are  always  challenges  and  limitations  of  any  technological  advancement.  There  is  a  ton  \\nof\\n \\ndebate\\n \\nabout\\n \\nthe\\n \\nbenefits\\n \\nand\\n \\nrisks\\n \\nof\\n \\nAI\\n \\nat\\n \\nevery\\n \\nphase.\\n \\nEveryone\\n \\nknows\\n \\nthat\\n \\nAI\\n \\nprovides\\n \\nsoftware\\n \\nbusinesses\\n \\nwith\\n \\na\\n \\ncompetitive\\n \\nadvantage.\\n  On  one  hand,  companies  increasingly  utilize  artificial  intelligence  tools  to  streamline  their  \\ninternal\\n \\nprocesses\\n \\n(as\\n \\nwell\\n \\nas\\n \\nsome\\n \\ncustomer-facing\\n \\nprocesses\\n \\nand\\n \\napplications)\\n \\nto\\n \\nachieve\\n \\nresults\\n \\nfaster\\n \\nand\\n \\nwith\\n \\nmore\\n \\nprecision.\\n \\nThe\\n \\nprimary\\n \\nbenefit\\n \\nof\\n \\nadopting\\n \\nAI\\n \\nis\\n \\nits\\n \\nability\\n \\nto\\n \\nreduce\\n \\nhuman\\n \\nerror.\\n \\nMoreover,\\n \\nAI\\n \\nsystems\\n \\nboast\\n \\nremarkable\\n \\naccuracy,\\n \\npaving\\n \\nthe\\n \\nway\\n \\nfor\\n \\ninnovative\\n \\nsolutions\\n \\nand\\n \\npersonalized\\n \\nuser\\n \\nexperiences.\\n  However,  the  rapid  advancement  of  AI  also  brings  forth  concerns  such  as  job  displacement,  \\nbiased\\n \\nalgorithms,\\n \\nand\\n \\nprivacy\\n \\ninfringements.\\n  Addressing  these  complexities  requires  careful  considerations  and  responsible  governance  to  \\nmaximize\\n \\nthe\\n \\nbenefits\\n \\nwhile\\n \\nmitigating\\n \\nrisks.\\n  AI  holds  the  potential  to  reshape  software  businesses,  but  we  must  navigate  its  ethical  \\nchallenges\\n \\nand\\n \\nconsequences\\n \\ncautiously.')]"
      ]
     },
     "execution_count": 23,
     "metadata": {},
     "output_type": "execute_result"
    }
   ],
   "source": [
    "retriever = vectorstore.as_retriever()\n",
    "retriever.invoke(\"Machine learning\" )"
   ]
  },
  {
   "cell_type": "code",
   "execution_count": null,
   "metadata": {},
   "outputs": [],
   "source": [
    "from operator import itemgetter\n",
    "\n",
    "chain = (\n",
    "    {\n",
    "        \"context\": itemgetter(\"question\") | retriever,\n",
    "        \"question\": itemgetter(\"question\")\n",
    "    }\n",
    "    | prompt\n",
    "    | model\n",
    "    | parser\n",
    "\n",
    ")\n",
    "\n",
    "result = chain.invoke({\"question\": \"What is machine learning?\"})\n",
    "print(result)"
   ]
  },
  {
   "cell_type": "code",
   "execution_count": null,
   "metadata": {},
   "outputs": [
    {
     "name": "stdout",
     "output_type": "stream",
     "text": [
      "Question: What is the difference between Machine Learning and Deep Learning\n",
      "Answer: The answer to your question is:\n",
      "\n",
      "Machine learning and deep learning are both subfields of artificial intelligence (AI) that involve training algorithms to make predictions or decisions based on data. The main difference between them is in their approach and architecture.\n",
      "\n",
      "Machine learning is a broader concept that encompasses algorithms and techniques allowing systems to learn patterns and make predictions based on data. It means that a system is being trained with vast data to recognize patterns and make accurate decisions.\n",
      "\n",
      "Deep learning, on the other hand, is a subset of machine learning that focuses on replicating the learning and decision-making architecture of the human brain. Its technology teaches systems to recognize complex data patterns using AI. It is often used in natural language processing (NLP), speech recognition, and image recognition.\n",
      "\n",
      "The advantages and limitations of artificial intelligence are also a topic of debate. Everyone knows that AI provides software businesses with a competitive advantage, but there are challenges and limitations to every phase of technological advancement.\n",
      "\n",
      "On one hand, companies increasingly utilize artificial intelligence tools to streamline their internal processes (as well as some customer-facing processes) to achieve results faster and with more precision. The primary benefit of adopting AI is its ability to reduce human error. Moreover, AI systems boast remarkable accuracy, paving the way for innovative solutions and personalized user experiences.\n",
      "\n",
      "However, the rapid advancement of AI also brings forth concerns such as job displacement, biased algorithms, and privacy infringements. Addressing these complexities requires careful considerations and responsible governance to maximize the benefits while mitigating risks. AI holds the potential to reshape software businesses, but we must navigate its ethical challenges cautiously.\n",
      "\n",
      "Question: Briefly describe the history of Artificial Intelligence\n",
      "Answer: The history of artificial intelligence (AI) dates back to ancient times with the idea of creating human-like artificial beings and AI tools. However, the modern era of AI began in the mid-20th century. Here's a brief timeline:\n",
      "\n",
      "1. Ancient Times: The concept of AI dates back to ancient Greek mythology and Egyptian gods. In the 19th and early 20th centuries, authors like Jules Verne and H.G. Wells wrote about human-like robots and AI machines.\n",
      "2. 1950s-1960s: The term \"Artificial Intelligence\" was coined, and the Dartmouth Conference in 1956 marked the beginning of AI as a field of study. Researchers like Alan Turing, Marvin Minsky, and John McCarthy explored the possibilities of AI.\n",
      "3. 1970s-1980s: The first AI language, Lisp, was developed, and AI applications were introduced. Machine learning, a subset of AI, emerged as a way for systems to learn from data without being explicitly programmed.\n",
      "4. 1990s-2000s: The internet revolution led to the development of web-based AI systems, and the rise of neural networks. This period saw significant advancements in machine learning, natural language processing (NLP), and computer vision.\n",
      "5. Present Day: AI has become increasingly integrated into various industries, including healthcare, finance, transportation, and entertainment. With the advent of deep learning, AI systems can now learn complex patterns in vast amounts of data, leading to improved accuracy and decision-making capabilities. However, there are also concerns about job displacement, biased algorithms, and privacy infringements that need to be addressed through responsible governance.\n",
      "\n",
      "In summary, the history of Artificial Intelligence is a continuous evolution of ideas and technologies aimed at creating machines that can learn, make decisions, and replicate human intelligence.\n",
      "\n",
      "Question: How do companies use Artificial Intelligence tools to gain a competitive advantage, and what is the primary benefit of adopting AI?\n",
      "Answer: According to the text, companies can utilize artificial intelligence (AI) tools to streamline their internal processes, reduce human error, and provide more precise results. The primary benefit of adopting AI is its ability to reduce human error. Moreover, AI systems boast remarkable accuracy, paving the way for innovative solutions and personalized user experiences. However, the rapid advancement of AI also brings forth concerns such as job displacement, biased algorithms, and privacy infringements. Addressing these complexities requires careful considerations and responsible governance to maximize the benefits while mitigating risks.\n",
      "\n",
      "Question: What are some of the concerns and risks associated with Artificial Intelligence, and why is responsible governance important?\n",
      "Answer: The answer to your question can be found in the passage provided:\n",
      "\n",
      "\"However, the rapid advancement of AI also brings forth concerns such as job displacement, biased algorithms, and privacy infringements. Addressing these complexities requires careful considerations and responsible governance to maximize the benefits while mitigating risks.\"\n",
      "\n",
      "Some of the concerns and risks associated with Artificial Intelligence include:\n",
      "\n",
      "1. Job displacement: AI has the potential to automate many jobs, which could lead to job displacement for some workers.\n",
      "2. Biased algorithms: AI systems can perpetuate biases and discrimination if they are trained on biased data or designed with a particular worldview.\n",
      "3. Privacy infringements: AI systems can collect and process vast amounts of personal data, which raises concerns about privacy and data protection.\n",
      "\n",
      "Responsible governance is important to address these risks because it allows for the development and use of AI to be done in a way that minimizes harm and maximizes benefits. This includes:\n",
      "\n",
      "1. Ensuring transparency and accountability in the development and deployment of AI systems.\n",
      "2. Implementing regulations and standards to govern the use of AI and protect society.\n",
      "3. Providing education and training programs to help workers adapt to the changing job market.\n",
      "4. Addressing concerns about bias and discrimination in AI systems and ensuring that they are designed to be fair and inclusive.\n",
      "5. Protecting privacy and data security in the development and deployment of AI systems.\n",
      "\n",
      "By taking a responsible approach to governance, we can ensure that AI is developed and used in ways that benefit society while minimizing harm.\n",
      "\n"
     ]
    }
   ],
   "source": [
    "questions = [\n",
    "    \"What is the difference between Machine Learning and Deep Learning\",\n",
    "    \"Briefly describe the history of Artificial Intelligence\",\n",
    "    \"How do companies use Artificial Intelligence tools to gain a competitive advantage, and what is the primary benefit of adopting AI?\",\n",
    "    \"What are some of the concerns and risks associated with Artificial Intelligence, and why is responsible governance important?\"\n",
    "\n",
    "\n",
    "]\n",
    "\n",
    "for question in questions:\n",
    "    print(\"Question:\", question)\n",
    "    print(\"Answer:\", chain.invoke({\"question\": question}))\n",
    "    print()\n",
    "\n"
   ]
  }
 ],
 "metadata": {
  "kernelspec": {
   "display_name": ".venv",
   "language": "python",
   "name": "python3"
  },
  "language_info": {
   "codemirror_mode": {
    "name": "ipython",
    "version": 3
   },
   "file_extension": ".py",
   "mimetype": "text/x-python",
   "name": "python",
   "nbconvert_exporter": "python",
   "pygments_lexer": "ipython3",
   "version": "3.10.12"
  }
 },
 "nbformat": 4,
 "nbformat_minor": 2
}
